{
  "nbformat": 4,
  "nbformat_minor": 0,
  "metadata": {
    "colab": {
      "name": "imdb_reviews.ipynb",
      "provenance": [],
      "collapsed_sections": []
    },
    "kernelspec": {
      "name": "python3",
      "display_name": "Python 3"
    },
    "accelerator": "GPU"
  },
  "cells": [
    {
      "cell_type": "code",
      "metadata": {
        "id": "AXUsECkqM2ql",
        "colab_type": "code",
        "colab": {}
      },
      "source": [
        "import tensorflow_datasets as tfds\n",
        "from tensorflow.keras.layers import Embedding,Dense,Bidirectional,LSTM\n",
        "from tensorflow.keras.models import Sequential\n",
        "from tensorflow.keras.preprocessing.text import Tokenizer\n",
        "from tensorflow.keras.preprocessing.sequence import pad_sequences\n",
        "import numpy as np"
      ],
      "execution_count": null,
      "outputs": []
    },
    {
      "cell_type": "code",
      "metadata": {
        "id": "NaFHaAknNWWs",
        "colab_type": "code",
        "colab": {}
      },
      "source": [
        "train_data=tfds.load('imdb_reviews',as_supervised=True,split='train')\n",
        "val_data=tfds.load('imdb_reviews',as_supervised=True,split='test')"
      ],
      "execution_count": null,
      "outputs": []
    },
    {
      "cell_type": "code",
      "metadata": {
        "id": "RWgpbiXINxlj",
        "colab_type": "code",
        "colab": {}
      },
      "source": [
        "train_dataset=[]\n",
        "train_labels=[]\n",
        "for i in train_data:\n",
        "  train_dataset.append(i[0].numpy().decode())\n",
        "  train_labels.append(float(i[1].numpy()))"
      ],
      "execution_count": null,
      "outputs": []
    },
    {
      "cell_type": "code",
      "metadata": {
        "id": "paw24hBrOUOI",
        "colab_type": "code",
        "colab": {}
      },
      "source": [
        "val_dataset=[]\n",
        "val_labels=[]\n",
        "for i in val_data:\n",
        "  val_dataset.append(i[0].numpy().decode())\n",
        "  val_labels.append(float(i[1].numpy()))"
      ],
      "execution_count": null,
      "outputs": []
    },
    {
      "cell_type": "code",
      "metadata": {
        "id": "m7XmczYAObhG",
        "colab_type": "code",
        "colab": {}
      },
      "source": [
        "tokenizer=Tokenizer(oov_token='<OOV>')\n",
        "tokenizer.fit_on_texts(train_dataset)\n",
        "vocab_size=len(tokenizer.word_index)"
      ],
      "execution_count": null,
      "outputs": []
    },
    {
      "cell_type": "code",
      "metadata": {
        "id": "wOo0eSqnOd56",
        "colab_type": "code",
        "colab": {}
      },
      "source": [
        "train_sentence=tokenizer.texts_to_sequences(train_dataset)\n",
        "val_sentence=tokenizer.texts_to_sequences(val_dataset)"
      ],
      "execution_count": null,
      "outputs": []
    },
    {
      "cell_type": "code",
      "metadata": {
        "id": "ywPvMrHTPF0h",
        "colab_type": "code",
        "colab": {}
      },
      "source": [
        "max_pad=max([len(x) for x in train_sentence])\n"
      ],
      "execution_count": null,
      "outputs": []
    },
    {
      "cell_type": "code",
      "metadata": {
        "id": "dWLNXghuPNaj",
        "colab_type": "code",
        "colab": {}
      },
      "source": [
        "train_sequence=np.array(pad_sequences(train_sentence,max_pad))\n",
        "val_sequence=np.array(pad_sequences(val_sentence,max_pad))\n",
        "train_labels=np.array(train_labels)\n",
        "val_labels=np.array(val_labels)"
      ],
      "execution_count": null,
      "outputs": []
    },
    {
      "cell_type": "code",
      "metadata": {
        "id": "F82jU9MjP_6H",
        "colab_type": "code",
        "colab": {}
      },
      "source": [
        "model=Sequential([Embedding(vocab_size+1,64,input_length=max_pad),\n",
        "                  Bidirectional(LSTM(32,return_sequences=True)),\n",
        "                  Bidirectional(LSTM(64)),\n",
        "\n",
        "                  Dense(1,activation='sigmoid')])"
      ],
      "execution_count": null,
      "outputs": []
    },
    {
      "cell_type": "code",
      "metadata": {
        "id": "5MzYA4qeQKtS",
        "colab_type": "code",
        "colab": {
          "base_uri": "https://localhost:8080/",
          "height": 170
        },
        "outputId": "fbbb7b70-7413-4959-a695-7d6a1f89545e"
      },
      "source": [
        "model.compile(loss='binary_crossentropy',optimizer='adam',metrics=['accuracy'])\n",
        "model.fit(train_sequence,train_labels,epochs=4,batch_size=32,verbose=1,validation_data=(val_sequence,val_labels))"
      ],
      "execution_count": null,
      "outputs": [
        {
          "output_type": "stream",
          "text": [
            "Epoch 1/4\n",
            "782/782 [==============================] - 411s 526ms/step - loss: 0.3771 - accuracy: 0.8311 - val_loss: 0.3166 - val_accuracy: 0.8750\n",
            "Epoch 2/4\n",
            "782/782 [==============================] - 419s 535ms/step - loss: 0.3015 - accuracy: 0.8839 - val_loss: 0.3693 - val_accuracy: 0.8505\n",
            "Epoch 3/4\n",
            "782/782 [==============================] - 412s 527ms/step - loss: 0.1714 - accuracy: 0.9384 - val_loss: 0.3483 - val_accuracy: 0.8509\n",
            "Epoch 4/4\n",
            "782/782 [==============================] - 421s 539ms/step - loss: 0.1097 - accuracy: 0.9628 - val_loss: 0.4297 - val_accuracy: 0.8593\n"
          ],
          "name": "stdout"
        },
        {
          "output_type": "execute_result",
          "data": {
            "text/plain": [
              "<tensorflow.python.keras.callbacks.History at 0x7f706d7d1e80>"
            ]
          },
          "metadata": {
            "tags": []
          },
          "execution_count": 16
        }
      ]
    },
    {
      "cell_type": "code",
      "metadata": {
        "id": "FxvKmu_ZRKKV",
        "colab_type": "code",
        "colab": {}
      },
      "source": [
        ""
      ],
      "execution_count": null,
      "outputs": []
    }
  ]
}