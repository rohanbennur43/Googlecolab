{
  "nbformat": 4,
  "nbformat_minor": 0,
  "metadata": {
    "colab": {
      "name": "deep_weeds.ipynb",
      "provenance": []
    },
    "kernelspec": {
      "name": "python3",
      "display_name": "Python 3"
    },
    "accelerator": "GPU"
  },
  "cells": [
    {
      "cell_type": "code",
      "metadata": {
        "id": "UkGNB8BHwopr",
        "colab_type": "code",
        "colab": {}
      },
      "source": [
        "import tensorflow_datasets as tfds\n",
        "from tensorflow.keras.layers import Dense,Conv2D,MaxPooling2D,Flatten,BatchNormalization,Dropout\n",
        "from tensorflow.keras.models import Sequential\n",
        "from tensorflow import image\n",
        "from tensorflow.keras.regularizers import l1\n",
        "train_data=tfds.load('deep_weeds',as_supervised=True,split='train[:80%]')\n"
      ],
      "execution_count": null,
      "outputs": []
    },
    {
      "cell_type": "code",
      "metadata": {
        "id": "5qhalS3lxN0M",
        "colab_type": "code",
        "colab": {}
      },
      "source": [
        "val_data=tfds.load('deep_weeds',as_supervised=True,split='train[80%:]')\n",
        "\n",
        "def image_resize(images,labels):\n",
        "  images=images/255\n",
        "  return images,labels\n",
        "\n",
        "def preprocessing(images,labels):\n",
        "  #images=image.random_brightness(images,0.1)\n",
        "  images=image.random_flip_left_right(images)\n",
        "  images=image.random_flip_up_down(images)\n",
        "  return images,labels"
      ],
      "execution_count": 11,
      "outputs": []
    },
    {
      "cell_type": "code",
      "metadata": {
        "id": "d3woFDO0y2ZO",
        "colab_type": "code",
        "colab": {}
      },
      "source": [
        "train_data=train_data.map(image_resize)\n",
        "train_data=train_data.map(preprocessing)\n",
        "train_data=train_data.batch(64)\n",
        "\n",
        "val_data=val_data.map(image_resize)\n",
        "\n",
        "val_data=val_data.batch(64)"
      ],
      "execution_count": 13,
      "outputs": []
    },
    {
      "cell_type": "code",
      "metadata": {
        "id": "Qx1FPzkTy-7d",
        "colab_type": "code",
        "colab": {}
      },
      "source": [
        "model=Sequential([Conv2D(32,kernel_size=(3,3),strides=(1,1),activation='relu'),\n",
        "                  MaxPooling2D((2,2)),\n",
        "                  \n",
        "                  Conv2D(64,kernel_size=(3,3),strides=(1,1),activation='relu'),\n",
        "                  MaxPooling2D((2,2)),\n",
        "                  \n",
        "                  Conv2D(64,kernel_size=(3,3),strides=(1,1),activation='relu'),\n",
        "                  MaxPooling2D((2,2)),\n",
        "                  \n",
        "                  Flatten(),\n",
        "                  Dense(64,activation='relu'),\n",
        "                  Dropout(0.2),\n",
        "                  Dense(64,activation='relu'),\n",
        "                  Dropout(0.2),\n",
        "                  Dense(9,activation='softmax')])\n"
      ],
      "execution_count": 14,
      "outputs": []
    },
    {
      "cell_type": "code",
      "metadata": {
        "id": "sZazugnj0YuS",
        "colab_type": "code",
        "colab": {
          "base_uri": "https://localhost:8080/",
          "height": 1000
        },
        "outputId": "1bd7dded-ba24-4d52-81cb-31d63c5e7fdf"
      },
      "source": [
        "model.compile(loss='sparse_categorical_crossentropy',optimizer='adam',metrics=['accuracy'])\n",
        "model.fit(train_data,epochs=30,verbose=1,validation_data=val_data,batch_size=64)"
      ],
      "execution_count": 16,
      "outputs": [
        {
          "output_type": "stream",
          "text": [
            "Epoch 1/30\n",
            "      2/Unknown - 0s 136ms/step - loss: 0.5993 - accuracy: 0.7812WARNING:tensorflow:Callbacks method `on_train_batch_end` is slow compared to the batch time (batch time: 0.0399s vs `on_train_batch_end` time: 0.1046s). Check your callbacks.\n"
          ],
          "name": "stdout"
        },
        {
          "output_type": "stream",
          "text": [
            "WARNING:tensorflow:Callbacks method `on_train_batch_end` is slow compared to the batch time (batch time: 0.0399s vs `on_train_batch_end` time: 0.1046s). Check your callbacks.\n"
          ],
          "name": "stderr"
        },
        {
          "output_type": "stream",
          "text": [
            "219/219 [==============================] - 35s 160ms/step - loss: 0.5517 - accuracy: 0.8043 - val_loss: 0.9483 - val_accuracy: 0.7045\n",
            "Epoch 2/30\n",
            "219/219 [==============================] - 35s 159ms/step - loss: 0.5539 - accuracy: 0.7987 - val_loss: 0.9921 - val_accuracy: 0.7033\n",
            "Epoch 3/30\n",
            "219/219 [==============================] - 35s 160ms/step - loss: 0.5393 - accuracy: 0.8065 - val_loss: 0.9849 - val_accuracy: 0.6808\n",
            "Epoch 4/30\n",
            "219/219 [==============================] - 35s 160ms/step - loss: 0.5271 - accuracy: 0.8122 - val_loss: 0.9648 - val_accuracy: 0.6876\n",
            "Epoch 5/30\n",
            "219/219 [==============================] - 35s 160ms/step - loss: 0.4912 - accuracy: 0.8184 - val_loss: 1.0141 - val_accuracy: 0.6905\n",
            "Epoch 6/30\n",
            "219/219 [==============================] - 35s 161ms/step - loss: 0.4817 - accuracy: 0.8266 - val_loss: 0.9435 - val_accuracy: 0.6962\n",
            "Epoch 7/30\n",
            "219/219 [==============================] - 35s 160ms/step - loss: 0.4585 - accuracy: 0.8347 - val_loss: 1.0347 - val_accuracy: 0.6770\n",
            "Epoch 8/30\n",
            "219/219 [==============================] - 35s 160ms/step - loss: 0.4373 - accuracy: 0.8387 - val_loss: 1.0196 - val_accuracy: 0.6810\n",
            "Epoch 9/30\n",
            "219/219 [==============================] - 35s 160ms/step - loss: 0.4307 - accuracy: 0.8427 - val_loss: 1.0068 - val_accuracy: 0.6893\n",
            "Epoch 10/30\n",
            "219/219 [==============================] - 35s 161ms/step - loss: 0.4171 - accuracy: 0.8500 - val_loss: 1.0726 - val_accuracy: 0.7062\n",
            "Epoch 11/30\n",
            "219/219 [==============================] - 35s 160ms/step - loss: 0.3955 - accuracy: 0.8569 - val_loss: 1.0532 - val_accuracy: 0.6885\n",
            "Epoch 12/30\n",
            "219/219 [==============================] - 35s 160ms/step - loss: 0.3892 - accuracy: 0.8584 - val_loss: 1.0484 - val_accuracy: 0.6813\n",
            "Epoch 13/30\n",
            "219/219 [==============================] - 35s 161ms/step - loss: 0.3871 - accuracy: 0.8606 - val_loss: 1.1445 - val_accuracy: 0.6782\n",
            "Epoch 14/30\n",
            "219/219 [==============================] - 35s 161ms/step - loss: 0.3630 - accuracy: 0.8688 - val_loss: 1.1163 - val_accuracy: 0.6967\n",
            "Epoch 15/30\n",
            "219/219 [==============================] - 35s 161ms/step - loss: 0.3475 - accuracy: 0.8731 - val_loss: 1.1472 - val_accuracy: 0.6967\n",
            "Epoch 16/30\n",
            "219/219 [==============================] - 35s 160ms/step - loss: 0.3565 - accuracy: 0.8693 - val_loss: 1.2001 - val_accuracy: 0.6905\n",
            "Epoch 17/30\n",
            "219/219 [==============================] - 35s 161ms/step - loss: 0.3280 - accuracy: 0.8811 - val_loss: 1.2415 - val_accuracy: 0.6890\n",
            "Epoch 18/30\n",
            "219/219 [==============================] - 35s 161ms/step - loss: 0.3305 - accuracy: 0.8796 - val_loss: 1.1364 - val_accuracy: 0.7019\n",
            "Epoch 19/30\n",
            "219/219 [==============================] - 35s 161ms/step - loss: 0.3235 - accuracy: 0.8835 - val_loss: 1.1400 - val_accuracy: 0.6973\n",
            "Epoch 20/30\n",
            "219/219 [==============================] - 35s 161ms/step - loss: 0.3198 - accuracy: 0.8859 - val_loss: 1.1950 - val_accuracy: 0.7016\n",
            "Epoch 21/30\n",
            "219/219 [==============================] - 35s 160ms/step - loss: 0.3070 - accuracy: 0.8874 - val_loss: 1.1670 - val_accuracy: 0.7047\n",
            "Epoch 22/30\n",
            "219/219 [==============================] - 35s 161ms/step - loss: 0.3022 - accuracy: 0.8909 - val_loss: 1.3231 - val_accuracy: 0.6945\n",
            "Epoch 23/30\n",
            "219/219 [==============================] - 35s 160ms/step - loss: 0.3034 - accuracy: 0.8922 - val_loss: 1.3057 - val_accuracy: 0.6939\n",
            "Epoch 24/30\n",
            "219/219 [==============================] - 35s 160ms/step - loss: 0.3019 - accuracy: 0.8927 - val_loss: 1.4323 - val_accuracy: 0.6819\n",
            "Epoch 25/30\n",
            "219/219 [==============================] - 35s 160ms/step - loss: 0.2977 - accuracy: 0.8955 - val_loss: 1.3142 - val_accuracy: 0.6876\n",
            "Epoch 26/30\n",
            "219/219 [==============================] - 35s 161ms/step - loss: 0.2920 - accuracy: 0.8986 - val_loss: 1.2869 - val_accuracy: 0.6985\n",
            "Epoch 27/30\n",
            "219/219 [==============================] - 35s 161ms/step - loss: 0.2823 - accuracy: 0.8971 - val_loss: 1.3345 - val_accuracy: 0.6899\n",
            "Epoch 28/30\n",
            "219/219 [==============================] - 35s 161ms/step - loss: 0.2745 - accuracy: 0.9023 - val_loss: 1.2843 - val_accuracy: 0.6922\n",
            "Epoch 29/30\n",
            "219/219 [==============================] - 35s 160ms/step - loss: 0.2682 - accuracy: 0.9038 - val_loss: 1.3213 - val_accuracy: 0.6987\n",
            "Epoch 30/30\n",
            "219/219 [==============================] - 35s 161ms/step - loss: 0.2612 - accuracy: 0.9083 - val_loss: 1.3893 - val_accuracy: 0.6979\n"
          ],
          "name": "stdout"
        },
        {
          "output_type": "execute_result",
          "data": {
            "text/plain": [
              "<tensorflow.python.keras.callbacks.History at 0x7f66c93c4898>"
            ]
          },
          "metadata": {
            "tags": []
          },
          "execution_count": 16
        }
      ]
    },
    {
      "cell_type": "code",
      "metadata": {
        "id": "sNfR_YFE0oSf",
        "colab_type": "code",
        "colab": {}
      },
      "source": [
        "model.save('deep_weeds.h5')"
      ],
      "execution_count": null,
      "outputs": []
    },
    {
      "cell_type": "code",
      "metadata": {
        "id": "3SYbBJwvKJnZ",
        "colab_type": "code",
        "colab": {}
      },
      "source": [
        ""
      ],
      "execution_count": null,
      "outputs": []
    }
  ]
}