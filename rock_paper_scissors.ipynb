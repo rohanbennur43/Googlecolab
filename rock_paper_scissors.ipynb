{
  "nbformat": 4,
  "nbformat_minor": 0,
  "metadata": {
    "colab": {
      "name": "rock_paper_scissors.ipynb",
      "provenance": [],
      "collapsed_sections": []
    },
    "kernelspec": {
      "name": "python3",
      "display_name": "Python 3"
    },
    "accelerator": "GPU"
  },
  "cells": [
    {
      "cell_type": "code",
      "metadata": {
        "id": "Ba3S-hKguRbQ",
        "colab_type": "code",
        "colab": {}
      },
      "source": [
        "import tensorflow as tf\n",
        "import tensorflow_datasets as tfds\n",
        "from tensorflow.keras.layers import Dense,Conv2D,Flatten,Dropout,MaxPooling2D\n",
        "from tensorflow.keras.preprocessing.image import ImageDataGenerator\n",
        "from tensorflow.keras.models import Sequential\n",
        "import numpy as np"
      ],
      "execution_count": null,
      "outputs": []
    },
    {
      "cell_type": "code",
      "metadata": {
        "id": "hd6RCTFFuSZa",
        "colab_type": "code",
        "colab": {}
      },
      "source": [
        "train_data,info=tfds.load('rock_paper_scissors',as_supervised=True,with_info=True,split='train')\n",
        "val_data=tfds.load('rock_paper_scissors',as_supervised=True,split='test')"
      ],
      "execution_count": null,
      "outputs": []
    },
    {
      "cell_type": "code",
      "metadata": {
        "id": "-uY1D6u-ukLF",
        "colab_type": "code",
        "colab": {}
      },
      "source": [
        "train_datagen=ImageDataGenerator(rescale=1.0/255,horizontal_flip=True,vertical_flip=True,shear_range=0.2,rotation_range=40,zoom_range=0.2,height_shift_range=0.2,width_shift_range=0.2)\n",
        "val_datagen=ImageDataGenerator(rescale=1.0/255)"
      ],
      "execution_count": null,
      "outputs": []
    },
    {
      "cell_type": "code",
      "metadata": {
        "id": "84DCU1Wku4JX",
        "colab_type": "code",
        "colab": {}
      },
      "source": [
        "train_dataset=[]\n",
        "train_labels=[]\n",
        "for i in train_data:\n",
        "  train_dataset.append(np.asarray(i[0].numpy(),np.float32))\n",
        "  train_labels.append(int(i[1].numpy()))\n"
      ],
      "execution_count": null,
      "outputs": []
    },
    {
      "cell_type": "code",
      "metadata": {
        "id": "z6vqeCvru-ym",
        "colab_type": "code",
        "colab": {}
      },
      "source": [
        "val_dataset=[]\n",
        "val_labels=[]\n",
        "for i in val_data:\n",
        "  train_dataset.append(np.asarray(i[0].numpy(),np.float32))\n",
        "  train_labels.append(int(i[1].numpy()))\n",
        "  val_dataset.append(np.asarray(i[0].numpy(),np.float32))\n",
        "  val_labels.append(int(i[1].numpy()))"
      ],
      "execution_count": null,
      "outputs": []
    },
    {
      "cell_type": "code",
      "metadata": {
        "id": "P2K-vPCLvw3p",
        "colab_type": "code",
        "colab": {}
      },
      "source": [
        "train_dataset=np.array(train_dataset)\n",
        "val_dataset=np.array(val_dataset)\n",
        "train_labels=np.array(train_labels)\n",
        "val_labels=np.array(val_labels)"
      ],
      "execution_count": null,
      "outputs": []
    },
    {
      "cell_type": "code",
      "metadata": {
        "id": "v6eV3CN1vW76",
        "colab_type": "code",
        "colab": {}
      },
      "source": [
        "model=Sequential([Conv2D(32,(3,3),(1,1),activation='relu'),\n",
        "                  MaxPooling2D((2,2)),\n",
        "                  \n",
        "                Conv2D(64,(3,3),(1,1),activation='relu'),\n",
        "                  MaxPooling2D((2,2)),\n",
        "                  Conv2D(64,(3,3),(1,1),activation='relu'),\n",
        "                  MaxPooling2D((2,2)),\n",
        "                 Flatten(),\n",
        "                 Dense(64,activation='relu'),\n",
        "                  Dropout(0.15),\n",
        "                 Dense(3,activation='softmax')])"
      ],
      "execution_count": null,
      "outputs": []
    },
    {
      "cell_type": "code",
      "metadata": {
        "id": "bTv9XAPUveH0",
        "colab_type": "code",
        "colab": {}
      },
      "source": [
        "model.compile(loss='sparse_categorical_crossentropy',optimizer='adam',metrics=['accuracy'])\n",
        "model.fit(train_datagen.flow(train_dataset,train_labels),epochs=10,verbose=1,batch_size=128,validation_data=val_datagen.flow(val_dataset,val_labels))"
      ],
      "execution_count": null,
      "outputs": []
    },
    {
      "cell_type": "code",
      "metadata": {
        "id": "_j8eKgc6v6HM",
        "colab_type": "code",
        "colab": {}
      },
      "source": [
        ""
      ],
      "execution_count": null,
      "outputs": []
    }
  ]
}