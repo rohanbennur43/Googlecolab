{
  "nbformat": 4,
  "nbformat_minor": 0,
  "metadata": {
    "colab": {
      "name": "Scan dataset",
      "provenance": [],
      "collapsed_sections": []
    },
    "kernelspec": {
      "name": "python3",
      "display_name": "Python 3"
    },
    "accelerator": "GPU"
  },
  "cells": [
    {
      "cell_type": "code",
      "metadata": {
        "id": "XdRKfaLoAqrA",
        "colab_type": "code",
        "colab": {}
      },
      "source": [
        "import tensorflow_datasets as tfds\n",
        "from tensorflow.keras.layers import LSTM,Embedding,Flatten,Bidirectional,Dense\n",
        "from tensorflow.keras.models import Sequential\n",
        "from tensorflow.keras.utils import to_categorical\n",
        "from tensorflow.keras.preprocessing.text import Tokenizer\n",
        "from tensorflow.keras.preprocessing.sequence import pad_sequences\n",
        "import numpy as np"
      ],
      "execution_count": 1,
      "outputs": []
    },
    {
      "cell_type": "code",
      "metadata": {
        "id": "Lf43QbJzBSOL",
        "colab_type": "code",
        "colab": {}
      },
      "source": [
        "train_dataset,info=tfds.load('scan',as_supervised=True,with_info=True,split='train')\n",
        "test_dataset,info=tfds.load('scan',as_supervised=True,with_info=True,split='test')\n"
      ],
      "execution_count": null,
      "outputs": []
    },
    {
      "cell_type": "code",
      "metadata": {
        "id": "QgS-MjqcBc4U",
        "colab_type": "code",
        "colab": {}
      },
      "source": [
        "train_dataset_commands=[]\n",
        "train_dataset_actions=[]\n",
        "for i,j in train_dataset:\n",
        "  train_dataset_commands.append(i.numpy().decode())\n",
        "  train_dataset_actions.append(j.numpy().decode())\n",
        "  \n"
      ],
      "execution_count": 5,
      "outputs": []
    },
    {
      "cell_type": "code",
      "metadata": {
        "id": "rUrPmCiEbecT",
        "colab_type": "code",
        "colab": {}
      },
      "source": [
        "test_dataset_commands=[]\n",
        "test_dataset_actions=[]\n",
        "for i,j in test_dataset:\n",
        "  test_dataset_commands.append(i.numpy().decode())\n",
        "  test_dataset_actions.append(j.numpy().decode())\n"
      ],
      "execution_count": 7,
      "outputs": []
    },
    {
      "cell_type": "code",
      "metadata": {
        "id": "1KAO43jrCMZg",
        "colab_type": "code",
        "colab": {}
      },
      "source": [
        "tokenizer=Tokenizer()\n",
        "tokenizer.fit_on_texts(train_dataset_commands)\n",
        "max_id=len(tokenizer.word_index)+1\n"
      ],
      "execution_count": 8,
      "outputs": []
    },
    {
      "cell_type": "code",
      "metadata": {
        "id": "grbyCTBOEWt2",
        "colab_type": "code",
        "colab": {}
      },
      "source": [
        "train_dataset_actions_sequences=tokenizer.texts_to_sequences(train_dataset_actions)\n",
        "train_dataset_commands_sequences=tokenizer.texts_to_sequences(train_dataset_commands)"
      ],
      "execution_count": 9,
      "outputs": []
    },
    {
      "cell_type": "code",
      "metadata": {
        "id": "YrC7ORKuD3Zv",
        "colab_type": "code",
        "colab": {}
      },
      "source": [
        "max_pad1=max([len(x) for x in train_dataset_actions_sequences])\n",
        "\n",
        "train_dataset_actions_sequences_padded=pad_sequences(train_dataset_actions_sequences,max_pad1)\n",
        "train_dataset_commands_sequences_padded=pad_sequences(train_dataset_commands_sequences,max_pad1)\n"
      ],
      "execution_count": 10,
      "outputs": []
    },
    {
      "cell_type": "code",
      "metadata": {
        "id": "vmxOqALlciQB",
        "colab_type": "code",
        "colab": {}
      },
      "source": [
        "test_dataset_actions_sequences=tokenizer.texts_to_sequences(test_dataset_actions)\n",
        "test_dataset_commands_sequences=tokenizer.texts_to_sequences(test_dataset_commands)"
      ],
      "execution_count": 11,
      "outputs": []
    },
    {
      "cell_type": "code",
      "metadata": {
        "id": "9DMdapE6b746",
        "colab_type": "code",
        "colab": {}
      },
      "source": [
        "test_dataset_commands_sequences_padded=pad_sequences(test_dataset_commands_sequences,max_pad1)\n",
        "test_dataset_actions_sequences_padded=pad_sequences(test_dataset_actions_sequences,max_pad1)"
      ],
      "execution_count": 12,
      "outputs": []
    },
    {
      "cell_type": "code",
      "metadata": {
        "id": "6FOlpb1haHI9",
        "colab_type": "code",
        "colab": {}
      },
      "source": [
        "train_dataset_actions_sequences_padded=np.asarray(train_dataset_actions_sequences_padded).astype(np.float32)\n",
        "train_dataset_commands_sequences_padded=np.asarray(train_dataset_commands_sequences_padded).astype(np.float32)\n",
        "test_dataset_actions_sequences_padded=np.asarray(test_dataset_actions_sequences_padded).astype(np.float32)\n",
        "test_dataset_commands_sequences_padded=np.asarray(test_dataset_commands_sequences_padded).astype(np.float32)"
      ],
      "execution_count": 14,
      "outputs": []
    },
    {
      "cell_type": "code",
      "metadata": {
        "id": "3SM8zn5iEx1z",
        "colab_type": "code",
        "colab": {}
      },
      "source": [
        "model=Sequential([Embedding(14,64,input_length=72),\n",
        "                  LSTM(64,return_sequences=True),\n",
        "                  Bidirectional(LSTM(64,return_sequences=True)),\n",
        "                  Dense(14,activation='softmax')])"
      ],
      "execution_count": 15,
      "outputs": []
    },
    {
      "cell_type": "code",
      "metadata": {
        "id": "35X6IwyNHVfH",
        "colab_type": "code",
        "colab": {
          "base_uri": "https://localhost:8080/",
          "height": 714
        },
        "outputId": "cdf0b21e-75fe-46f3-946d-24d104ed23ba"
      },
      "source": [
        "model.compile(loss='sparse_categorical_crossentropy',optimizer='adam',metrics=['accuracy'])\n",
        "model.fit(train_dataset_commands_sequences_padded,train_dataset_actions_sequences_padded,epochs=20,verbose=1,validation_data=(test_dataset_commands_sequences_padded,test_dataset_actions_sequences_padded))"
      ],
      "execution_count": 16,
      "outputs": [
        {
          "output_type": "stream",
          "text": [
            "Epoch 1/20\n",
            "523/523 [==============================] - 9s 17ms/step - loss: 0.7257 - accuracy: 0.7644 - val_loss: 0.6523 - val_accuracy: 0.7707\n",
            "Epoch 2/20\n",
            "523/523 [==============================] - 8s 16ms/step - loss: 0.5923 - accuracy: 0.7847 - val_loss: 0.5602 - val_accuracy: 0.7909\n",
            "Epoch 3/20\n",
            "523/523 [==============================] - 8s 16ms/step - loss: 0.5518 - accuracy: 0.7952 - val_loss: 0.5392 - val_accuracy: 0.7986\n",
            "Epoch 4/20\n",
            "523/523 [==============================] - 8s 15ms/step - loss: 0.5382 - accuracy: 0.8001 - val_loss: 0.5357 - val_accuracy: 0.8020\n",
            "Epoch 5/20\n",
            "523/523 [==============================] - 8s 16ms/step - loss: 0.5018 - accuracy: 0.8024 - val_loss: 0.4778 - val_accuracy: 0.8046\n",
            "Epoch 6/20\n",
            "523/523 [==============================] - 8s 16ms/step - loss: 0.4829 - accuracy: 0.8036 - val_loss: 0.4725 - val_accuracy: 0.8079\n",
            "Epoch 7/20\n",
            "523/523 [==============================] - 8s 15ms/step - loss: 0.4650 - accuracy: 0.8073 - val_loss: 0.4473 - val_accuracy: 0.8054\n",
            "Epoch 8/20\n",
            "523/523 [==============================] - 8s 15ms/step - loss: 0.4363 - accuracy: 0.8106 - val_loss: 0.4135 - val_accuracy: 0.8150\n",
            "Epoch 9/20\n",
            "523/523 [==============================] - 8s 15ms/step - loss: 0.3972 - accuracy: 0.8160 - val_loss: 0.3717 - val_accuracy: 0.8235\n",
            "Epoch 10/20\n",
            "523/523 [==============================] - 8s 15ms/step - loss: 0.3667 - accuracy: 0.8265 - val_loss: 0.3597 - val_accuracy: 0.8291\n",
            "Epoch 11/20\n",
            "523/523 [==============================] - 8s 15ms/step - loss: 0.3492 - accuracy: 0.8335 - val_loss: 0.3290 - val_accuracy: 0.8432\n",
            "Epoch 12/20\n",
            "523/523 [==============================] - 8s 15ms/step - loss: 0.3074 - accuracy: 0.8584 - val_loss: 0.2413 - val_accuracy: 0.9004\n",
            "Epoch 13/20\n",
            "523/523 [==============================] - 8s 15ms/step - loss: 0.2254 - accuracy: 0.9055 - val_loss: 0.1918 - val_accuracy: 0.9171\n",
            "Epoch 14/20\n",
            "523/523 [==============================] - 8s 15ms/step - loss: 0.1776 - accuracy: 0.9224 - val_loss: 0.1593 - val_accuracy: 0.9305\n",
            "Epoch 15/20\n",
            "523/523 [==============================] - 8s 15ms/step - loss: 0.1650 - accuracy: 0.9313 - val_loss: 0.1790 - val_accuracy: 0.9273\n",
            "Epoch 16/20\n",
            "523/523 [==============================] - 8s 15ms/step - loss: 0.1317 - accuracy: 0.9446 - val_loss: 0.1088 - val_accuracy: 0.9532\n",
            "Epoch 17/20\n",
            "523/523 [==============================] - 8s 15ms/step - loss: 0.1206 - accuracy: 0.9497 - val_loss: 0.1013 - val_accuracy: 0.9569\n",
            "Epoch 18/20\n",
            "523/523 [==============================] - 8s 15ms/step - loss: 0.2596 - accuracy: 0.8827 - val_loss: 0.3025 - val_accuracy: 0.8496\n",
            "Epoch 19/20\n",
            "523/523 [==============================] - 8s 15ms/step - loss: 0.1857 - accuracy: 0.9124 - val_loss: 0.1294 - val_accuracy: 0.9415\n",
            "Epoch 20/20\n",
            "523/523 [==============================] - 8s 15ms/step - loss: 0.1114 - accuracy: 0.9514 - val_loss: 0.0963 - val_accuracy: 0.9579\n"
          ],
          "name": "stdout"
        },
        {
          "output_type": "execute_result",
          "data": {
            "text/plain": [
              "<tensorflow.python.keras.callbacks.History at 0x7fbc8e4ca860>"
            ]
          },
          "metadata": {
            "tags": []
          },
          "execution_count": 16
        }
      ]
    },
    {
      "cell_type": "code",
      "metadata": {
        "id": "JxDFeGVSLdse",
        "colab_type": "code",
        "colab": {
          "base_uri": "https://localhost:8080/",
          "height": 714
        },
        "outputId": "1b4b8f28-ad17-46e2-dc51-fb395cf4577c"
      },
      "source": [
        "model.compile(loss='sparse_categorical_crossentropy',optimizer='adam',metrics=['accuracy'])\n",
        "model.fit(train_dataset_commands_sequences_padded,train_dataset_actions_sequences_padded,epochs=20,verbose=1,validation_data=(test_dataset_commands_sequences_padded,test_dataset_actions_sequences_padded))"
      ],
      "execution_count": 21,
      "outputs": [
        {
          "output_type": "stream",
          "text": [
            "Epoch 1/20\n",
            "523/523 [==============================] - 9s 17ms/step - loss: 0.1000 - accuracy: 0.9572 - val_loss: 0.0819 - val_accuracy: 0.9658\n",
            "Epoch 2/20\n",
            "523/523 [==============================] - 8s 15ms/step - loss: 0.0685 - accuracy: 0.9729 - val_loss: 0.0681 - val_accuracy: 0.9743\n",
            "Epoch 3/20\n",
            "523/523 [==============================] - 8s 15ms/step - loss: 0.1583 - accuracy: 0.9370 - val_loss: 0.0922 - val_accuracy: 0.9596\n",
            "Epoch 4/20\n",
            "523/523 [==============================] - 8s 15ms/step - loss: 0.1728 - accuracy: 0.9208 - val_loss: 0.2141 - val_accuracy: 0.8962\n",
            "Epoch 5/20\n",
            "523/523 [==============================] - 8s 15ms/step - loss: 0.1156 - accuracy: 0.9491 - val_loss: 0.0870 - val_accuracy: 0.9656\n",
            "Epoch 6/20\n",
            "523/523 [==============================] - 8s 15ms/step - loss: 0.0604 - accuracy: 0.9767 - val_loss: 0.0550 - val_accuracy: 0.9782\n",
            "Epoch 7/20\n",
            "523/523 [==============================] - 8s 15ms/step - loss: 0.0466 - accuracy: 0.9833 - val_loss: 0.0662 - val_accuracy: 0.9774\n",
            "Epoch 8/20\n",
            "523/523 [==============================] - 8s 15ms/step - loss: 0.0470 - accuracy: 0.9830 - val_loss: 0.0371 - val_accuracy: 0.9868\n",
            "Epoch 9/20\n",
            "523/523 [==============================] - 8s 15ms/step - loss: 0.0286 - accuracy: 0.9900 - val_loss: 0.0353 - val_accuracy: 0.9867\n",
            "Epoch 10/20\n",
            "523/523 [==============================] - 8s 16ms/step - loss: 0.0269 - accuracy: 0.9911 - val_loss: 0.0148 - val_accuracy: 0.9955\n",
            "Epoch 11/20\n",
            "523/523 [==============================] - 8s 15ms/step - loss: 0.0689 - accuracy: 0.9764 - val_loss: 0.0409 - val_accuracy: 0.9872\n",
            "Epoch 12/20\n",
            "523/523 [==============================] - 8s 15ms/step - loss: 0.0378 - accuracy: 0.9873 - val_loss: 0.0239 - val_accuracy: 0.9918\n",
            "Epoch 13/20\n",
            "523/523 [==============================] - 8s 15ms/step - loss: 0.0323 - accuracy: 0.9895 - val_loss: 0.0246 - val_accuracy: 0.9908\n",
            "Epoch 14/20\n",
            "523/523 [==============================] - 8s 15ms/step - loss: 0.0364 - accuracy: 0.9883 - val_loss: 0.0420 - val_accuracy: 0.9860\n",
            "Epoch 15/20\n",
            "523/523 [==============================] - 8s 15ms/step - loss: 0.0291 - accuracy: 0.9896 - val_loss: 0.0171 - val_accuracy: 0.9938\n",
            "Epoch 16/20\n",
            "523/523 [==============================] - 8s 15ms/step - loss: 0.0215 - accuracy: 0.9934 - val_loss: 0.0098 - val_accuracy: 0.9968\n",
            "Epoch 17/20\n",
            "523/523 [==============================] - 8s 15ms/step - loss: 0.0146 - accuracy: 0.9953 - val_loss: 0.0155 - val_accuracy: 0.9951\n",
            "Epoch 18/20\n",
            "523/523 [==============================] - 8s 15ms/step - loss: 0.0160 - accuracy: 0.9949 - val_loss: 0.0123 - val_accuracy: 0.9955\n",
            "Epoch 19/20\n",
            "523/523 [==============================] - 8s 14ms/step - loss: 0.0133 - accuracy: 0.9957 - val_loss: 0.0083 - val_accuracy: 0.9971\n",
            "Epoch 20/20\n",
            "523/523 [==============================] - 8s 15ms/step - loss: 0.0159 - accuracy: 0.9954 - val_loss: 0.0191 - val_accuracy: 0.9929\n"
          ],
          "name": "stdout"
        },
        {
          "output_type": "execute_result",
          "data": {
            "text/plain": [
              "<tensorflow.python.keras.callbacks.History at 0x7fbc97d33860>"
            ]
          },
          "metadata": {
            "tags": []
          },
          "execution_count": 21
        }
      ]
    },
    {
      "cell_type": "code",
      "metadata": {
        "id": "R1oraY3DLn-b",
        "colab_type": "code",
        "colab": {}
      },
      "source": [
        "model.summary()"
      ],
      "execution_count": null,
      "outputs": []
    },
    {
      "cell_type": "code",
      "metadata": {
        "id": "IYbxpZDHgdjB",
        "colab_type": "code",
        "colab": {}
      },
      "source": [
        ""
      ],
      "execution_count": 19,
      "outputs": []
    },
    {
      "cell_type": "code",
      "metadata": {
        "id": "T8DDr88WOQYE",
        "colab_type": "code",
        "colab": {}
      },
      "source": [
        "\n"
      ],
      "execution_count": 20,
      "outputs": []
    },
    {
      "cell_type": "code",
      "metadata": {
        "id": "E-RaTh1-gfa1",
        "colab_type": "code",
        "colab": {}
      },
      "source": [
        "\n"
      ],
      "execution_count": 20,
      "outputs": []
    },
    {
      "cell_type": "code",
      "metadata": {
        "id": "4wK1GbJ6h715",
        "colab_type": "code",
        "colab": {}
      },
      "source": [
        ""
      ],
      "execution_count": 20,
      "outputs": []
    },
    {
      "cell_type": "code",
      "metadata": {
        "id": "3G8WWYD_iFSK",
        "colab_type": "code",
        "colab": {}
      },
      "source": [
        ""
      ],
      "execution_count": 20,
      "outputs": []
    }
  ]
}