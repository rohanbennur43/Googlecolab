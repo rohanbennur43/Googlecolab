{
  "nbformat": 4,
  "nbformat_minor": 0,
  "metadata": {
    "colab": {
      "name": "tiny_shakespeare.ipynb",
      "provenance": [],
      "collapsed_sections": []
    },
    "kernelspec": {
      "name": "python3",
      "display_name": "Python 3"
    },
    "accelerator": "GPU"
  },
  "cells": [
    {
      "cell_type": "code",
      "metadata": {
        "id": "H6Q1p9hVHNFy",
        "colab_type": "code",
        "colab": {}
      },
      "source": [
        "import tensorflow as tf\n",
        "from tensorflow.keras.preprocessing.text import Tokenizer\n",
        "from tensorflow.keras.models import Sequential\n",
        "from tensorflow.keras.layers import Conv2D,MaxPooling2D,Dense,Flatten,Dropout,Lambda,Bidirectional,LSTM,Embedding\n",
        "import tensorflow_datasets as tfds\n",
        "from tensorflow.keras.preprocessing.sequence import pad_sequences\n",
        "import numpy as np\n",
        "\n"
      ],
      "execution_count": 1,
      "outputs": []
    },
    {
      "cell_type": "code",
      "metadata": {
        "id": "vPekEi2VUW-B",
        "colab_type": "code",
        "colab": {}
      },
      "source": [
        "train_data=tfds.load('tiny_shakespeare',split=['train'])\n",
        "val_data=tfds.load('tiny_shakespeare',split=['validation'])"
      ],
      "execution_count": 2,
      "outputs": []
    },
    {
      "cell_type": "code",
      "metadata": {
        "id": "0nx2Lj1RZgKs",
        "colab_type": "code",
        "colab": {}
      },
      "source": [
        "\n",
        "for i in train_data[0]:\n",
        "  train_data=i['text'].numpy().decode()\n",
        "  \n",
        "for i in val_data[0]:\n",
        "  val_data=i['text'].numpy().decode()\n",
        "  \n",
        "  "
      ],
      "execution_count": 3,
      "outputs": []
    },
    {
      "cell_type": "code",
      "metadata": {
        "id": "J1hk3lzAjC7Z",
        "colab_type": "code",
        "colab": {}
      },
      "source": [
        "tokenizer=Tokenizer(char_level=True)\n",
        "tokenizer.fit_on_texts(train_data)\n",
        "vocab_size=len(tokenizer.word_index)"
      ],
      "execution_count": 4,
      "outputs": []
    },
    {
      "cell_type": "code",
      "metadata": {
        "id": "Yjd1jH-ShR7d",
        "colab_type": "code",
        "colab": {}
      },
      "source": [
        "[train_sentence]=np.asarray(tokenizer.texts_to_sequences([train_data]),np.float32)\n",
        "[val_sentence]=np.asarray(tokenizer.texts_to_sequences([val_data]),np.float32)"
      ],
      "execution_count": 5,
      "outputs": []
    },
    {
      "cell_type": "code",
      "metadata": {
        "id": "QpGhCLYvUkAF",
        "colab_type": "code",
        "colab": {}
      },
      "source": [
        "window_size=10\n",
        "shuffle_buffer_size=1000\n",
        "batch_size=32\n",
        "val_data=tf.data.Dataset.from_tensor_slices(val_sentence)\n",
        "val_data=val_data.window(window_size,shift=1,drop_remainder=True)\n",
        "val_data=val_data.flat_map(lambda x: x.batch(window_size+1))\n",
        "val_data=val_data.shuffle(shuffle_buffer_size)\n",
        "val_data=val_data.map(lambda x:(x[:-1],x[1:]))\n",
        "val_data=val_data.batch(batch_size).prefetch(1)"
      ],
      "execution_count": 6,
      "outputs": []
    },
    {
      "cell_type": "code",
      "metadata": {
        "id": "lrp02ThIgElX",
        "colab_type": "code",
        "colab": {}
      },
      "source": [
        "window_size=10\n",
        "shuffle_buffer_size=1000\n",
        "batch_size=32\n",
        "training_data=tf.data.Dataset.from_tensor_slices(train_sentence)\n",
        "training_data=training_data.window(window_size,shift=1,drop_remainder=True)\n",
        "training_data=training_data.flat_map(lambda x: x.batch(window_size+1))\n",
        "training_data=training_data.shuffle(shuffle_buffer_size)\n",
        "training_data=training_data.map(lambda x:(x[:-1],x[1:]))\n",
        "training_data=training_data.batch(batch_size).prefetch(1)\n"
      ],
      "execution_count": 7,
      "outputs": []
    },
    {
      "cell_type": "code",
      "metadata": {
        "id": "J6hNsPEkgQwx",
        "colab_type": "code",
        "colab": {}
      },
      "source": [
        "model=Sequential([Lambda(lambda x:tf.expand_dims(x,axis=-1)),\n",
        "                  Bidirectional(LSTM(32,return_sequences=True)),\n",
        "                  Bidirectional(LSTM(64,return_sequences=True)),\n",
        "                  Dense(10,activation='relu'),\n",
        "                  Dense(64,activation='relu'),\n",
        "                  Dense(vocab_size+1,activation='softmax')])\n"
      ],
      "execution_count": 8,
      "outputs": []
    },
    {
      "cell_type": "code",
      "metadata": {
        "id": "xQeEb1G8hdUi",
        "colab_type": "code",
        "colab": {}
      },
      "source": [
        "model.compile(loss='sparse_categorical_crossentropy',optimizer='adam',metrics=['accuracy'])\n",
        "model.fit(training_data,epochs=5,verbose=1,batch_size=1024,validation_data=val_data)"
      ],
      "execution_count": null,
      "outputs": []
    },
    {
      "cell_type": "code",
      "metadata": {
        "id": "39snf80ome_s",
        "colab_type": "code",
        "colab": {}
      },
      "source": [
        "text=[\"How are yo\"]\n",
        "text=tokenizer.texts_to_sequences(text)\n",
        "text=np.array(text)\n"
      ],
      "execution_count": null,
      "outputs": []
    },
    {
      "cell_type": "code",
      "metadata": {
        "id": "jvjg3g0psCRI",
        "colab_type": "code",
        "colab": {}
      },
      "source": [
        "y=model.predict_classes(text)"
      ],
      "execution_count": null,
      "outputs": []
    }
  ]
}