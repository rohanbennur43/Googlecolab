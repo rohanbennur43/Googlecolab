{
  "nbformat": 4,
  "nbformat_minor": 0,
  "metadata": {
    "colab": {
      "name": "movie_reviews.ipynb",
      "provenance": [],
      "collapsed_sections": []
    },
    "kernelspec": {
      "name": "python3",
      "display_name": "Python 3"
    }
  },
  "cells": [
    {
      "cell_type": "code",
      "metadata": {
        "id": "rTlEuF6E7yuG",
        "colab_type": "code",
        "colab": {}
      },
      "source": [
        "import tensorflow_datasets as tfds\n",
        "from tensorflow.keras.preprocessing.text import Tokenizer\n",
        "from tensorflow.keras.preprocessing.sequence import pad_sequences\n",
        "from tensorflow.keras.layers import Dense,Embedding,LSTM,Bidirectional\n",
        "from tensorflow.keras.models import Sequential\n",
        "import numpy as np"
      ],
      "execution_count": null,
      "outputs": []
    },
    {
      "cell_type": "code",
      "metadata": {
        "id": "S_co_zJ275H7",
        "colab_type": "code",
        "colab": {}
      },
      "source": [
        "train_data,info=tfds.load('movie_rationales',with_info=True,split='train')\n",
        "val_data=tfds.load('movie_rationales',split='validation')"
      ],
      "execution_count": null,
      "outputs": []
    },
    {
      "cell_type": "code",
      "metadata": {
        "id": "olpyeas28aP0",
        "colab_type": "code",
        "colab": {}
      },
      "source": [
        "train_sentences=[]\n",
        "train_labels=[]\n",
        "for i in train_data:\n",
        "  train_sentences.append(i['review'].numpy().decode())\n",
        "  train_labels.append(i['label'].numpy())"
      ],
      "execution_count": null,
      "outputs": []
    },
    {
      "cell_type": "code",
      "metadata": {
        "id": "CU0doi4C8iTG",
        "colab_type": "code",
        "colab": {}
      },
      "source": [
        "val_sentences=[]\n",
        "val_labels=[]\n",
        "for i in val_data:\n",
        "  val_sentences.append(i['review'].numpy().decode())\n",
        "  val_labels.append(i['label'].numpy())\n"
      ],
      "execution_count": null,
      "outputs": []
    },
    {
      "cell_type": "code",
      "metadata": {
        "id": "_aypZ0IM86lc",
        "colab_type": "code",
        "colab": {}
      },
      "source": [
        "num_words=10000\n",
        "traval=train_sentences+val_sentences\n",
        "tokenizer=Tokenizer(num_words=10000,oov_token='<OOV>')\n",
        "tokenizer.fit_on_texts(traval)"
      ],
      "execution_count": null,
      "outputs": []
    },
    {
      "cell_type": "code",
      "metadata": {
        "id": "AIKFHS0D9ZAd",
        "colab_type": "code",
        "colab": {}
      },
      "source": [
        "train_sentences=tokenizer.texts_to_sequences(train_sentences)\n",
        "val_sentences=tokenizer.texts_to_sequences(val_sentences)\n"
      ],
      "execution_count": null,
      "outputs": []
    },
    {
      "cell_type": "code",
      "metadata": {
        "id": "edsMazoW-PQ9",
        "colab_type": "code",
        "colab": {}
      },
      "source": [
        "max_pad=150\n",
        "train_padded=pad_sequences(train_sentences,max_pad)\n",
        "val_paded=pad_sequences(val_sentences,max_pad)"
      ],
      "execution_count": null,
      "outputs": []
    },
    {
      "cell_type": "code",
      "metadata": {
        "id": "zHWBanoN_IEG",
        "colab_type": "code",
        "colab": {}
      },
      "source": [
        "train_padded=np.array(train_padded)\n",
        "val_padded=np.array(val_paded)\n",
        "train_labels=np.array(train_labels)\n",
        "val_labels=np.array(val_labels)"
      ],
      "execution_count": null,
      "outputs": []
    },
    {
      "cell_type": "code",
      "metadata": {
        "id": "gP2oWCoZ-bt8",
        "colab_type": "code",
        "colab": {}
      },
      "source": [
        "model=Sequential([Embedding(num_words+1,64,input_length=max_pad),\n",
        "                  Bidirectional(LSTM(32)),\n",
        "                  Dense(10,activation='relu'),\n",
        "                  Dense(1,activation='sigmoid')])"
      ],
      "execution_count": null,
      "outputs": []
    },
    {
      "cell_type": "code",
      "metadata": {
        "id": "RV6x3Jk0A-ci",
        "colab_type": "code",
        "colab": {
          "base_uri": "https://localhost:8080/",
          "height": 34
        },
        "outputId": "40e37343-1437-45b6-e621-763607c0e2ed"
      },
      "source": [
        "val_padded"
      ],
      "execution_count": null,
      "outputs": [
        {
          "output_type": "execute_result",
          "data": {
            "text/plain": [
              "array([], shape=(0, 150), dtype=int32)"
            ]
          },
          "metadata": {
            "tags": []
          },
          "execution_count": 46
        }
      ]
    },
    {
      "cell_type": "code",
      "metadata": {
        "id": "RNJxvBoq_gyS",
        "colab_type": "code",
        "colab": {
          "base_uri": "https://localhost:8080/",
          "height": 374
        },
        "outputId": "b157306f-2594-4071-9acd-7992c0e2b5e8"
      },
      "source": [
        "model.compile(loss='binary_crossentropy',optimizer='adam',metrics=['accuracy'])\n",
        "model.fit(train_padded,train_labels,epochs=10,verbose=1,validation_data=(val_padded,val_labels))"
      ],
      "execution_count": null,
      "outputs": [
        {
          "output_type": "stream",
          "text": [
            "Epoch 1/10\n",
            "57/57 [==============================] - 6s 99ms/step - loss: 0.6917 - accuracy: 0.5150 - val_loss: 0.6668 - val_accuracy: 0.8600\n",
            "Epoch 2/10\n",
            "57/57 [==============================] - 5s 86ms/step - loss: 0.5789 - accuracy: 0.7522 - val_loss: 0.3883 - val_accuracy: 0.9000\n",
            "Epoch 3/10\n",
            "57/57 [==============================] - 5s 87ms/step - loss: 0.2489 - accuracy: 0.9178 - val_loss: 0.0785 - val_accuracy: 0.9850\n",
            "Epoch 4/10\n",
            "57/57 [==============================] - 5s 88ms/step - loss: 0.0489 - accuracy: 0.9894 - val_loss: 0.0147 - val_accuracy: 0.9950\n",
            "Epoch 5/10\n",
            "57/57 [==============================] - 5s 89ms/step - loss: 0.0154 - accuracy: 0.9972 - val_loss: 0.0042 - val_accuracy: 1.0000\n",
            "Epoch 6/10\n",
            "57/57 [==============================] - 5s 88ms/step - loss: 0.0049 - accuracy: 1.0000 - val_loss: 0.0017 - val_accuracy: 1.0000\n",
            "Epoch 7/10\n",
            "57/57 [==============================] - 5s 87ms/step - loss: 0.0016 - accuracy: 1.0000 - val_loss: 8.7701e-04 - val_accuracy: 1.0000\n",
            "Epoch 8/10\n",
            "57/57 [==============================] - 5s 87ms/step - loss: 7.7963e-04 - accuracy: 1.0000 - val_loss: 6.2255e-04 - val_accuracy: 1.0000\n",
            "Epoch 9/10\n",
            "57/57 [==============================] - 5s 88ms/step - loss: 5.6327e-04 - accuracy: 1.0000 - val_loss: 4.6310e-04 - val_accuracy: 1.0000\n",
            "Epoch 10/10\n",
            "57/57 [==============================] - 5s 88ms/step - loss: 4.3891e-04 - accuracy: 1.0000 - val_loss: 3.7807e-04 - val_accuracy: 1.0000\n"
          ],
          "name": "stdout"
        },
        {
          "output_type": "execute_result",
          "data": {
            "text/plain": [
              "<tensorflow.python.keras.callbacks.History at 0x7fcaf2a5dfd0>"
            ]
          },
          "metadata": {
            "tags": []
          },
          "execution_count": 55
        }
      ]
    },
    {
      "cell_type": "code",
      "metadata": {
        "id": "uI1OUsRcAFv0",
        "colab_type": "code",
        "colab": {}
      },
      "source": [
        ""
      ],
      "execution_count": null,
      "outputs": []
    }
  ]
}